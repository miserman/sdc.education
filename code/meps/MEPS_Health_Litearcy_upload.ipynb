{
 "cells": [
  {
   "cell_type": "code",
   "execution_count": 1,
   "id": "0c32abd1",
   "metadata": {},
   "outputs": [],
   "source": [
    "# packages \n",
    "import numpy as np\n",
    "import pandas as pd\n",
    "import math\n",
    "from sklearn import linear_model, tree, model_selection, metrics\n",
    "from sklearn.ensemble import RandomForestRegressor, GradientBoostingRegressor\n",
    "from sklearn.model_selection import train_test_split"
   ]
  },
  {
   "cell_type": "code",
   "execution_count": 2,
   "id": "e155d769",
   "metadata": {},
   "outputs": [],
   "source": [
    "# load data\n",
    "path = \"../../data/meps/\" # specify the path to MEPS and ACS files here\n",
    "meps = pd.read_excel(path + \"/original/h217.xlsx\")"
   ]
  },
  {
   "cell_type": "code",
   "execution_count": 3,
   "id": "9e2c8439",
   "metadata": {},
   "outputs": [],
   "source": [
    "meps.head\n",
    "# DUPERSID - PERSON ID (DUID + PID), PID - person's number\n",
    "cols_select = [\"DUPERSID\", \"PID\", \n",
    "              \"ADEXPL4\", \"ADEZUN4\", \"ADFHLP4\", \n",
    "              \"RACETHX\",\"RACEV1X\", \"RACEV2X\", \n",
    "              \"BORNUSA\", \"OTHLGSPK\", \"WHTLGSPK\" ,\"YRSINUS\", \n",
    "              \"EDUCYR\", \"HIDEG\", \n",
    "              \"SEX\",\n",
    "              \"AGEY2X\",\n",
    "              \"MARRYY2X\",\n",
    "              \"POVCATY1\", \"POVCATY2\", \"POVLEVY1\", \"POVLEVY2\"]\n",
    "questions = meps[cols_select]"
   ]
  },
  {
   "cell_type": "code",
   "execution_count": 4,
   "id": "68c7c721",
   "metadata": {},
   "outputs": [],
   "source": [
    "# encode questions\n",
    "# drop -1 INAPPLICABLE and -15 CANNOT BE COMPUTED\n",
    "questions = questions.drop(questions[questions.ADEXPL4 < 0].index)\n",
    "questions = questions.drop(questions[questions.ADEZUN4 < 0].index)\n",
    "questions = questions.drop(questions[questions.ADFHLP4 < 0].index)\n",
    "# total score -- add scores together\n",
    "questions[\"tot_score\"] = questions.ADEXPL4 + questions.ADEZUN4 + questions.ADFHLP4\n",
    "#questions.tot_score.describe()\n",
    "# de-mean tot_score\n",
    "questions[\"std_score\"] = questions.tot_score - questions.tot_score.mean() \n",
    "#questions.std_score.describe()\n",
    "# health literacy above average if the std_score is positive, and below average if negative\n",
    "questions[\"above_av\"] = 1\n",
    "questions.loc[questions[\"std_score\"] < 0 , \"above_av\"] = 0 # above average means that a person USUALLY health literate\n",
    "#questions.above_av.describe()"
   ]
  },
  {
   "cell_type": "code",
   "execution_count": 5,
   "id": "7626c853",
   "metadata": {},
   "outputs": [],
   "source": [
    "# encode chars as in ACS \n",
    "\n",
    "# age groups\n",
    "questions[\"age_less_18\"] = 0\n",
    "questions.loc[questions[\"AGEY2X\"] < 18, \"age_less_18\"] = 1\n",
    "questions[\"age_18_24\"] = 0\n",
    "questions.loc[(questions[\"AGEY2X\"] <= 24) & (questions[\"AGEY2X\"] >= 18), \"age_18_24\"] = 1\n",
    "questions[\"age_25_39\"] = 0\n",
    "questions.loc[(questions[\"AGEY2X\"] <= 39) & (questions[\"AGEY2X\"] >= 25), \"age_25_39\"] = 1\n",
    "questions[\"age_40_49\"] = 0\n",
    "questions.loc[(questions[\"AGEY2X\"] <= 49) & (questions[\"AGEY2X\"] >= 40), \"age_40_49\"] = 1\n",
    "questions[\"age_50_64\"] = 0\n",
    "questions.loc[(questions[\"AGEY2X\"] <= 64) & (questions[\"AGEY2X\"] >= 50), \"age_50_64\"] = 1\n",
    "questions[\"age_65_74\"] = 0\n",
    "questions.loc[(questions[\"AGEY2X\"] <= 74) & (questions[\"AGEY2X\"] >= 65), \"age_65_74\"] = 1\n",
    "# reference category\n",
    "#questions[\"age_above_74\"] = 0\n",
    "#questions.loc[questions[\"AGEY2X\"] > 74, \"age_above_74\"] = 1\n",
    "\n",
    "# gender\n",
    "# reference category - male\n",
    "questions[\"female\"] = 0\n",
    "questions.loc[questions[\"SEX\"] == 2, \"female\"] = 1\n",
    "\n",
    "# race/ethnicity \n",
    "# reference category - white \n",
    "# questions[\"white\"] = 0\n",
    "# questions.loc[questions[\"RACETHX\"] == 2, \"white\"] = 1\n",
    "questions[\"black\"] = 0\n",
    "questions.loc[questions[\"RACETHX\"] == 3, \"black\"] = 1\n",
    "questions[\"hispanic\"] = 0\n",
    "questions.loc[questions[\"RACETHX\"] == 1, \"hispanic\"] = 1\n",
    "questions[\"asian_pi\"] = 0\n",
    "questions.loc[(questions[\"RACEV1X\"] == 4) & (questions[\"RACETHX\"] != 1), \"asian_pi\"] = 1\n",
    "questions[\"native\"] = 0\n",
    "questions.loc[(questions[\"RACEV1X\"] == 3) & (questions[\"RACETHX\"] != 1), \"native\"] = 1\n",
    "questions[\"mixed\"] = 0\n",
    "questions.loc[questions[\"RACETHX\"] == 5, \"mixed\"] = 1\n",
    "\n",
    "# education\n",
    "# reference category - no education data\n",
    "#questions[\"edu_mis\"] = 0\n",
    "#questions.loc[(questions[\"HIDEG\"] == -7) | (questions[\"HIDEG\"] == -8) | (questions[\"HIDEG\"] == -15), \"edu_mis\"] = 1\n",
    "questions[\"HS_GED\"] = 0\n",
    "questions.loc[(questions[\"HIDEG\"] == 2) | (questions[\"HIDEG\"] == 3), \"HS_GED\"] = 1\n",
    "questions[\"no_edu\"] = 0\n",
    "questions.loc[questions[\"HIDEG\"] == 1, \"no_edu\"] = 1\n",
    "questions[\"BS_degree\"] = 0\n",
    "questions.loc[questions[\"HIDEG\"] == 4, \"BS_degree\"] = 1\n",
    "questions[\"above_BS\"] = 0\n",
    "questions.loc[(questions[\"HIDEG\"] == 5) | (questions[\"HIDEG\"] == 6), \"above_BS\"] = 1\n",
    "questions[\"oth_degree\"] = 0\n",
    "questions.loc[questions[\"HIDEG\"] == 7, \"oth_degree\"] = 1\n",
    "\n",
    "# income \n",
    "# reference - above poverty line\n",
    "questions[\"below_PVL\"] = 0\n",
    "questions.loc[questions[\"POVCATY2\"] == 1, \"below_PVL\"] = 1\n",
    "\n",
    "# marital status\n",
    "# reference - married\n",
    "#questions[\"married\"] = 0\n",
    "#questions.loc[questions[\"MARRYY2X\"] == 1, \"married\"] = 1\n",
    "questions[\"wid_sep_div\"] = 0\n",
    "questions.loc[(questions[\"MARRYY2X\"] == 2) | (questions[\"MARRYY2X\"] == 3)\n",
    "              | (questions[\"MARRYY2X\"] == 4), \"wid_sep_div\"] = 1\n",
    "questions[\"nev_married\"] = 0\n",
    "questions.loc[questions[\"MARRYY2X\"] == 5, \"nev_married\"] = 1\n",
    "\n",
    "# language spoken at home\n",
    "# reference - no info\n",
    "#questions[\"lang_mis\"] = 0 \n",
    "#questions.loc[(questions[\"OTHLGSPK\"] == -15) | (questions[\"OTHLGSPK\"] == -8), \"lang_mis\"] = 1\n",
    "questions[\"lang_eng\"] = 0\n",
    "questions.loc[questions[\"OTHLGSPK\"] == 2, \"lang_eng\"] = 1\n",
    "questions[\"lang_oth\"] = 0\n",
    "questions.loc[questions[\"OTHLGSPK\"] == 1, \"lang_oth\"] = 1\n",
    "\n",
    "# born in the US\n",
    "# reference - not born in the US\n",
    "questions[\"not_born_us\"] = 0\n",
    "questions.loc[questions[\"BORNUSA\"] == 1, \"not_born_us\"] = 2\n",
    "questions[\"born_us\"] = 0\n",
    "questions.loc[questions[\"BORNUSA\"] == 1, \"born_us\"] = 1\n",
    "#questions[\"born_mis\"] = 0\n",
    "#questions.loc[(questions[\"BORNUSA\"] == -15) | (questions[\"BORNUSA\"] == -7) \n",
    "# | (questions[\"BORNUSA\"] == -8) , \"born_mis\"] = 1\n"
   ]
  },
  {
   "cell_type": "code",
   "execution_count": 6,
   "id": "8f1b516b",
   "metadata": {},
   "outputs": [
    {
     "data": {
      "text/plain": [
       "<bound method NDFrame.head of          DUPERSID  PID  ADEXPL4  ADEZUN4  ADFHLP4  RACETHX  RACEV1X  RACEV2X  \\\n",
       "8      2320008102  102        4        4        4        4        4        4   \n",
       "12     2320018102  102        4        4        1        2        1        1   \n",
       "13     2320018103  103        1        4        2        2        1        1   \n",
       "15     2320019102  102        3        2        2        2        1        1   \n",
       "18     2320022101  101        4        4        1        2        1        1   \n",
       "...           ...  ...      ...      ...      ...      ...      ...      ...   \n",
       "14050  2329677102  102        4        4        2        2        1        1   \n",
       "14056  2329681102  102        3        4        2        2        1        1   \n",
       "14057  2329682101  101        4        4        1        2        1        1   \n",
       "14058  2329682102  102        3        3        2        2        1        1   \n",
       "14062  2329684102  102        3        4        2        2        1        1   \n",
       "\n",
       "       BORNUSA  OTHLGSPK  ...  BS_degree  above_BS  oth_degree  below_PVL  \\\n",
       "8            1         2  ...          0         1           0          0   \n",
       "12           1         2  ...          0         0           0          0   \n",
       "13           1         2  ...          0         0           0          0   \n",
       "15           1         2  ...          0         0           0          0   \n",
       "18           1         2  ...          0         0           0          0   \n",
       "...        ...       ...  ...        ...       ...         ...        ...   \n",
       "14050        1         2  ...          0         0           0          1   \n",
       "14056        1         2  ...          0         0           1          1   \n",
       "14057        1         2  ...          0         1           0          0   \n",
       "14058        1         2  ...          1         0           0          0   \n",
       "14062        1         2  ...          1         0           0          0   \n",
       "\n",
       "       wid_sep_div  nev_married  lang_eng  lang_oth  not_born_us  born_us  \n",
       "8                0            0         1         0            2        1  \n",
       "12               0            0         1         0            2        1  \n",
       "13               0            1         1         0            2        1  \n",
       "15               0            0         1         0            2        1  \n",
       "18               0            0         1         0            2        1  \n",
       "...            ...          ...       ...       ...          ...      ...  \n",
       "14050            0            0         1         0            2        1  \n",
       "14056            0            0         1         0            2        1  \n",
       "14057            0            0         1         0            2        1  \n",
       "14058            0            0         1         0            2        1  \n",
       "14062            0            0         1         0            2        1  \n",
       "\n",
       "[3388 rows x 48 columns]>"
      ]
     },
     "execution_count": 6,
     "metadata": {},
     "output_type": "execute_result"
    }
   ],
   "source": [
    "questions.head\n",
    "#questions.AGEY2X.unique()\n",
    "#questions.AGEY2X.describe()\n",
    "#questions.RACETHX.unique()\n",
    "#questions.SEX.unique()\n",
    "#questions.SEX.describe()\n",
    "#questions.HIDEG.unique()\n",
    "#questions.OTHLGSPK.unique()\n",
    "#questions.BORNUSA.unique()"
   ]
  },
  {
   "cell_type": "code",
   "execution_count": 7,
   "id": "53e3f013",
   "metadata": {},
   "outputs": [],
   "source": [
    "y_col = [\"std_score\", \"above_av\"]\n",
    "X_cols = [\"age_less_18\", \"age_18_24\", \"age_25_39\", \"age_40_49\", \"age_50_64\", \"age_65_74\", \n",
    "             \"female\", \n",
    "             \"black\", \"hispanic\", \"asian_pi\", \"native\", \"mixed\", \n",
    "             \"HS_GED\", \"no_edu\", \"BS_degree\", \"above_BS\", \"oth_degree\",\n",
    "             \"below_PVL\", \n",
    "             \"wid_sep_div\", \"nev_married\", \n",
    "             \"lang_eng\", \"lang_oth\",\n",
    "             \"born_us\", \"not_born_us\"]\n",
    "y = questions[y_col]\n",
    "X = questions[X_cols]"
   ]
  },
  {
   "cell_type": "code",
   "execution_count": 8,
   "id": "55cd4c0e",
   "metadata": {},
   "outputs": [
    {
     "data": {
      "text/html": [
       "<div>\n",
       "<style scoped>\n",
       "    .dataframe tbody tr th:only-of-type {\n",
       "        vertical-align: middle;\n",
       "    }\n",
       "\n",
       "    .dataframe tbody tr th {\n",
       "        vertical-align: top;\n",
       "    }\n",
       "\n",
       "    .dataframe thead th {\n",
       "        text-align: right;\n",
       "    }\n",
       "</style>\n",
       "<table border=\"1\" class=\"dataframe\">\n",
       "  <thead>\n",
       "    <tr style=\"text-align: right;\">\n",
       "      <th></th>\n",
       "      <th>std_score</th>\n",
       "      <th>above_av</th>\n",
       "    </tr>\n",
       "  </thead>\n",
       "  <tbody>\n",
       "    <tr>\n",
       "      <th>14021</th>\n",
       "      <td>-1.994982</td>\n",
       "      <td>0</td>\n",
       "    </tr>\n",
       "    <tr>\n",
       "      <th>13607</th>\n",
       "      <td>3.005018</td>\n",
       "      <td>1</td>\n",
       "    </tr>\n",
       "    <tr>\n",
       "      <th>10457</th>\n",
       "      <td>0.005018</td>\n",
       "      <td>1</td>\n",
       "    </tr>\n",
       "    <tr>\n",
       "      <th>5193</th>\n",
       "      <td>0.005018</td>\n",
       "      <td>1</td>\n",
       "    </tr>\n",
       "    <tr>\n",
       "      <th>1777</th>\n",
       "      <td>0.005018</td>\n",
       "      <td>1</td>\n",
       "    </tr>\n",
       "    <tr>\n",
       "      <th>...</th>\n",
       "      <td>...</td>\n",
       "      <td>...</td>\n",
       "    </tr>\n",
       "    <tr>\n",
       "      <th>898</th>\n",
       "      <td>-2.994982</td>\n",
       "      <td>0</td>\n",
       "    </tr>\n",
       "    <tr>\n",
       "      <th>2211</th>\n",
       "      <td>1.005018</td>\n",
       "      <td>1</td>\n",
       "    </tr>\n",
       "    <tr>\n",
       "      <th>13366</th>\n",
       "      <td>-2.994982</td>\n",
       "      <td>0</td>\n",
       "    </tr>\n",
       "    <tr>\n",
       "      <th>11937</th>\n",
       "      <td>3.005018</td>\n",
       "      <td>1</td>\n",
       "    </tr>\n",
       "    <tr>\n",
       "      <th>2822</th>\n",
       "      <td>-0.994982</td>\n",
       "      <td>0</td>\n",
       "    </tr>\n",
       "  </tbody>\n",
       "</table>\n",
       "<p>847 rows × 2 columns</p>\n",
       "</div>"
      ],
      "text/plain": [
       "       std_score  above_av\n",
       "14021  -1.994982         0\n",
       "13607   3.005018         1\n",
       "10457   0.005018         1\n",
       "5193    0.005018         1\n",
       "1777    0.005018         1\n",
       "...          ...       ...\n",
       "898    -2.994982         0\n",
       "2211    1.005018         1\n",
       "13366  -2.994982         0\n",
       "11937   3.005018         1\n",
       "2822   -0.994982         0\n",
       "\n",
       "[847 rows x 2 columns]"
      ]
     },
     "execution_count": 8,
     "metadata": {},
     "output_type": "execute_result"
    }
   ],
   "source": [
    "# split the data into train and test set\n",
    "X_train, X_test, y_train, y_test = train_test_split(X, y, test_size = 0.25, random_state = 42)\n",
    "y_test"
   ]
  },
  {
   "cell_type": "code",
   "execution_count": 9,
   "id": "83a6e9d7",
   "metadata": {},
   "outputs": [
    {
     "name": "stdout",
     "output_type": "stream",
     "text": [
      "R2 square: -0.0041020182617417245\n",
      "MAE:  1.240267002209642\n",
      "MSE:  2.707298847011672\n"
     ]
    }
   ],
   "source": [
    "# linear regression model\n",
    "lin_reg = linear_model.LinearRegression()\n",
    "lin_reg.fit(np.array(X_train), y_train[[\"std_score\"]])\n",
    "y_pred_lr = lin_reg.predict(X_test)\n",
    "mae = metrics.mean_absolute_error(y_test[[\"std_score\"]], y_pred_lr)\n",
    "mse = metrics.mean_squared_error(y_test[[\"std_score\"]], y_pred_lr)\n",
    "# Printing the metrics\n",
    "print(\"R2 square:\", metrics.r2_score(y_test[[\"std_score\"]], y_pred_lr))\n",
    "print(\"MAE: \", mae)\n",
    "print(\"MSE: \", mse)"
   ]
  },
  {
   "cell_type": "code",
   "execution_count": 10,
   "id": "abf6cbed",
   "metadata": {},
   "outputs": [
    {
     "name": "stdout",
     "output_type": "stream",
     "text": [
      "Decision Tree:  -0.41892921157347995\n",
      "R2 square: -0.41892921157347995\n",
      "MAE:  1.492116204105302\n",
      "MSE:  3.8257720317445862\n"
     ]
    }
   ],
   "source": [
    "# decision tree regressor\n",
    "tree_reg = tree.DecisionTreeRegressor()\n",
    "tree_reg.fit(np.array(X_train), y_train[[\"std_score\"]])\n",
    "y_pred_tr = tree_reg.predict(X_test)\n",
    "mae=metrics.mean_absolute_error(y_test[[\"std_score\"]], y_pred_tr)\n",
    "mse=metrics.mean_squared_error(y_test[[\"std_score\"]], y_pred_tr)\n",
    "# Printing the metrics\n",
    "print(\"Decision Tree: \", tree_reg.score(X_test, y_test[[\"std_score\"]]))\n",
    "print(\"R2 square:\", metrics.r2_score(y_test[[\"std_score\"]], y_pred_tr))\n",
    "print(\"MAE: \", mae)\n",
    "print(\"MSE: \", mse)"
   ]
  },
  {
   "cell_type": "code",
   "execution_count": 11,
   "id": "d92e3b06",
   "metadata": {},
   "outputs": [
    {
     "name": "stdout",
     "output_type": "stream",
     "text": [
      "Random Forest:  -0.15279767865367488\n",
      "R2 square: -0.15279767865367488\n",
      "MAE:  1.3457913173325668\n",
      "MSE:  3.1082178598343138\n"
     ]
    }
   ],
   "source": [
    "# random forest:\n",
    "rf_reg = RandomForestRegressor(n_estimators = 100)\n",
    "rf_reg.fit(np.array(X_train), y_train[[\"std_score\"]].values.ravel())\n",
    "y_pred_rf = rf_reg.predict(X_test)\n",
    "mae = metrics.mean_absolute_error(y_test[[\"std_score\"]], y_pred_rf)\n",
    "mse = metrics.mean_squared_error(y_test[[\"std_score\"]], y_pred_rf)\n",
    "# Printing the metrics\n",
    "print(\"Random Forest: \", rf_reg.score(X_test, y_test[[\"std_score\"]]))\n",
    "print(\"R2 square:\", metrics.r2_score(y_test[[\"std_score\"]], y_pred_rf))\n",
    "print(\"MAE: \", mae)\n",
    "print(\"MSE: \", mse)"
   ]
  },
  {
   "cell_type": "code",
   "execution_count": 12,
   "id": "a41a09d7",
   "metadata": {},
   "outputs": [
    {
     "name": "stdout",
     "output_type": "stream",
     "text": [
      "Logistic Regression Score:  0.6599763872491146\n",
      "R2 square: -0.5177700348432053\n",
      "MAE:  0.3400236127508855\n",
      "MSE:  0.3400236127508855\n"
     ]
    }
   ],
   "source": [
    "# Logistic Regression (only for binary outcome: above/below average)\n",
    "log_reg = linear_model.LogisticRegression(random_state = 0)\n",
    "log_reg.fit(X_train, y_train[[\"above_av\"]].values.ravel())\n",
    "y_pred_lg = log_reg.predict(X_test)\n",
    "mae = metrics.mean_absolute_error(y_test[[\"above_av\"]], y_pred_lg)\n",
    "mse = metrics.mean_squared_error(y_test[[\"above_av\"]], y_pred_lg)\n",
    "# Printing the metrics\n",
    "print(\"Logistic Regression Score: \", log_reg.score(X_test, y_test[[\"above_av\"]]))\n",
    "print(\"R2 square:\", metrics.r2_score(y_test[[\"above_av\"]], y_pred_lg))\n",
    "print(\"MAE: \", mae)\n",
    "print(\"MSE: \", mse)"
   ]
  },
  {
   "cell_type": "code",
   "execution_count": 13,
   "id": "ce6803be",
   "metadata": {},
   "outputs": [
    {
     "name": "stdout",
     "output_type": "stream",
     "text": [
      "Gradient Boosting Regressor Score:  -0.043985780348679615\n",
      "R2 square: -0.043985780348679615\n",
      "MAE:  1.2726855634460477\n",
      "MSE:  2.814834994881766\n"
     ]
    }
   ],
   "source": [
    "gb_reg = GradientBoostingRegressor(random_state = 0)\n",
    "gb_reg.fit(X_train, y_train[[\"std_score\"]].values.ravel())\n",
    "y_pred_gb = gb_reg.predict(X_test)\n",
    "mae=metrics.mean_absolute_error(y_test[[\"std_score\"]], y_pred_gb)\n",
    "mse=metrics.mean_squared_error(y_test[[\"std_score\"]], y_pred_gb)\n",
    "# Printing the metrics\n",
    "print(\"Gradient Boosting Regressor Score: \", gb_reg.score(X_test, y_test[[\"std_score\"]]))\n",
    "print(\"R2 square:\",metrics.r2_score(y_test[[\"std_score\"]], y_pred_gb))\n",
    "print(\"MAE: \", mae)\n",
    "print(\"MSE: \", mse)"
   ]
  },
  {
   "cell_type": "code",
   "execution_count": 14,
   "id": "2e440c40",
   "metadata": {},
   "outputs": [
    {
     "name": "stdout",
     "output_type": "stream",
     "text": [
      "2.707298847011672\n",
      "0.3400236127508855\n",
      "3.8257720317445862\n",
      "3.1082178598343138\n"
     ]
    }
   ],
   "source": [
    "print(metrics.mean_squared_error(y_test[[\"std_score\"]], y_pred_lr))\n",
    "print(metrics.mean_squared_error(y_test[[\"above_av\"]], y_pred_lg))\n",
    "print(metrics.mean_squared_error(y_test[[\"std_score\"]], y_pred_tr))\n",
    "print(metrics.mean_squared_error(y_test[[\"std_score\"]], y_pred_rf))"
   ]
  },
  {
   "cell_type": "code",
   "execution_count": 15,
   "id": "e0312d17",
   "metadata": {},
   "outputs": [],
   "source": [
    "# read ACS data\n",
    "acs_tr = pd.read_csv(path + \"working/HL_X_pred_tr.csv\", index_col = \"GEOID\")\n",
    "acs_ct = pd.read_csv(path + \"working/HL_X_pred_ct.csv\", index_col = \"GEOID\")\n",
    "acs_hd = pd.read_csv(path + \"working/HL_X_pred_hd.csv\", index_col = \"GEOID\")"
   ]
  },
  {
   "cell_type": "code",
   "execution_count": 16,
   "id": "3d3832ed",
   "metadata": {},
   "outputs": [],
   "source": [
    "# predict using the decision tree\n",
    "y_acs_tr = tree_reg.predict(np.nan_to_num(acs_tr))\n",
    "y_acs_ct = tree_reg.predict(np.nan_to_num(acs_ct))\n",
    "y_acs_hd = tree_reg.predict(np.nan_to_num(acs_hd))"
   ]
  },
  {
   "cell_type": "code",
   "execution_count": 17,
   "id": "6462af76",
   "metadata": {},
   "outputs": [],
   "source": [
    "hl_est_tr = pd.DataFrame(y_acs_tr.tolist())\n",
    "hl_est_tr[\"GEOID\"] = acs_tr.index\n",
    "\n",
    "hl_est_ct = pd.DataFrame(y_acs_ct.tolist())\n",
    "hl_est_ct[\"GEOID\"] = acs_ct.index\n",
    "\n",
    "hl_est_hd = pd.DataFrame(y_acs_hd.tolist())\n",
    "hl_est_hd[\"GEOID\"] = acs_hd.index"
   ]
  },
  {
   "cell_type": "code",
   "execution_count": 18,
   "id": "27d231f5",
   "metadata": {},
   "outputs": [],
   "source": [
    "hl_est_tr.to_csv(path + \"working/hl_est_tr.csv\", index = False)\n",
    "hl_est_ct.to_csv(path + \"working/hl_est_ct.csv\", index = False)\n",
    "hl_est_hd.to_csv(path + \"working/hl_est_hd.csv\", index = False)"
   ]
  }
 ],
 "metadata": {
  "kernelspec": {
   "display_name": "Python 3.7.9 64-bit",
   "language": "python",
   "name": "python3"
  },
  "language_info": {
   "codemirror_mode": {
    "name": "ipython",
    "version": 3
   },
   "file_extension": ".py",
   "mimetype": "text/x-python",
   "name": "python",
   "nbconvert_exporter": "python",
   "pygments_lexer": "ipython3",
   "version": "3.7.9"
  },
  "vscode": {
   "interpreter": {
    "hash": "252189e587d1e2aeba4a06e91fa71896c7a7f6e22e918b9407c7cde4ef2d5985"
   }
  }
 },
 "nbformat": 4,
 "nbformat_minor": 5
}
